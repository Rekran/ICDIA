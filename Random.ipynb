{
 "cells": [
  {
   "cell_type": "markdown",
   "metadata": {
    "id": "LC19e3h-ZGru"
   },
   "source": [
    "# Introdução à Ciência de Dados - UFPB\n",
    "Professor: Yuri Malheiros\n",
    "\n",
    "## Python - Random - Exercício"
   ]
  },
  {
   "cell_type": "markdown",
   "metadata": {
    "id": "lh0GNcQhZGrv"
   },
   "source": [
    "Implemente a função `generate_password` que deve gerar uma senha aleatória.\n",
    "\n",
    "A função tem tres parâmetros:\n",
    "\n",
    "- `n_chars` especifica o tamanho da senha gerada\n",
    "- `use_numbers` especifica se números podem ser usados na senha. Por padrão, esse parâmetro tem valor True\n",
    "- `use_special_chars` especifica se caracteres especiais, por exemplo !#%&@?, pode ser usados na senha. Por padrão, esse parâmetro tem valor True\n",
    "\n",
    "Note que se `use_numbers` e `use_special_chars` tiverem valor False, a senha terá apenas letras maiúsculas ou minúsculas."
   ]
  },
  {
   "cell_type": "code",
   "execution_count": 19,
   "metadata": {
    "id": "k3N_rJeoZGrw"
   },
   "outputs": [],
   "source": [
    "import string\n",
    "import random\n",
    "\n",
    "\n",
    "def generate_password(n_chars, use_numbers=True, use_special_chars=True):\n",
    "  letras = string.ascii_lowercase\n",
    "  caractere = string.punctuation\n",
    "  numeros = string.digits\n",
    "  senha = \"\"\n",
    "\n",
    "  if (use_numbers == True and use_special_chars == True):\n",
    "    for i in range(n_chars):\n",
    "      ramd_letras = random.choice(letras)\n",
    "      ramd_char = random.choice(caractere)\n",
    "      rand_num = random.choice(numeros)\n",
    "      l1 = [ramd_letras,ramd_char,rand_num]\n",
    "      rand = random.randrange(0,len(l1))\n",
    "      senha += l1[rand]\n",
    "    return senha\n",
    "\n",
    "  elif (use_numbers == False and use_special_chars == True):\n",
    "    for i in range(n_chars):\n",
    "      ramd_letras = random.choice(letras)\n",
    "      ramd_char = random.choice(caractere)\n",
    "      l1 = [ramd_letras,ramd_char]\n",
    "      rand = random.randrange(0,len(l1))\n",
    "      senha += l1[rand]\n",
    "    return senha\n",
    "\n",
    "  \n",
    "  else :\n",
    "    for i in range(n_chars):\n",
    "      ramd_letras = random.choice(letras)\n",
    "      l1 = [ramd_letras]\n",
    "      rand = random.randrange(0,len(l1))\n",
    "      senha += l1[rand]\n",
    "    return senha\n",
    "  "
   ]
  },
  {
   "cell_type": "code",
   "execution_count": 28,
   "metadata": {
    "colab": {
     "base_uri": "https://localhost:8080/",
     "height": 68
    },
    "id": "Rdan9CmmZGrz",
    "outputId": "82377ad5-3bb8-4cc4-f0d1-9cc27705a9b4"
   },
   "outputs": [
    {
     "name": "stdout",
     "output_type": "stream",
     "text": [
      ".[w`s9^40t\n",
      "kvpzh:|]k.\n",
      "khboibjtze\n"
     ]
    }
   ],
   "source": [
    "print(generate_password(10))\n",
    "print(generate_password(10, use_numbers=False))\n",
    "print(generate_password(10, use_numbers=False, use_special_chars=False))"
   ]
  },
  {
   "cell_type": "code",
   "execution_count": null,
   "metadata": {},
   "outputs": [],
   "source": []
  }
 ],
 "metadata": {
  "colab": {
   "collapsed_sections": [],
   "name": "Exercício_Python_Random.ipynb",
   "provenance": [],
   "toc_visible": true
  },
  "kernelspec": {
   "display_name": "Python 3",
   "language": "python",
   "name": "python3"
  },
  "language_info": {
   "codemirror_mode": {
    "name": "ipython",
    "version": 3
   },
   "file_extension": ".py",
   "mimetype": "text/x-python",
   "name": "python",
   "nbconvert_exporter": "python",
   "pygments_lexer": "ipython3",
   "version": "3.7.6"
  }
 },
 "nbformat": 4,
 "nbformat_minor": 1
}
