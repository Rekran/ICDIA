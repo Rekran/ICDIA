{
 "cells": [
  {
   "cell_type": "markdown",
   "metadata": {},
   "source": [
    "# Introdução à Ciência de Dados - UFPB\n",
    "Professor: Yuri Malheiros\n",
    "\n",
    "## Correlação"
   ]
  },
  {
   "cell_type": "markdown",
   "metadata": {},
   "source": [
    "Colete os seguintes dados dos times do campeonato brasileiro de 2019:\n",
    "\n",
    "- Pontos\n",
    "- Gols marcados\n",
    "- Gol sofridos\n",
    "\n",
    "Você pode encontrar esses dados no site da CBF (www.cbf.com.br)\n",
    "\n",
    "Calcule a correlação entre:\n",
    "\n",
    "- Pontos e gols marcados\n",
    "- Pontos e gols sofridos"
   ]
  },
  {
   "cell_type": "code",
   "execution_count": 4,
   "metadata": {},
   "outputs": [
    {
     "name": "stdout",
     "output_type": "stream",
     "text": [
      "           Clubes  Pontos  Jogos  Vitorias  Empates  Derrotas  Gols Marcados  \\\n",
      "0        Flamengo      90     38        28        6         4             86   \n",
      "1          Santos      74     38        22        8         8             60   \n",
      "2       Palmeiras      74     38        21       11         6             61   \n",
      "3          Grêmio      65     38        19        8        11             64   \n",
      "4    Athlético-pr      64     38        18       10        10             51   \n",
      "5       São paulo      63     38        17       12         9             39   \n",
      "6   Internacional      57     38        16        9        13             44   \n",
      "7     Corinthians      56     38        14       14        10             42   \n",
      "8       Fortaleza      53     38        15        8        15             50   \n",
      "9           Goiás      52     38        15        7        16             46   \n",
      "10          Vasco      49     38        12       13        13             39   \n",
      "11          Bahia      49     38        12       13        13             44   \n",
      "12    Atlético-mg      48     38        13        9        16             45   \n",
      "13     Fluminense      46     38        12       10        16             38   \n",
      "14    Botafogo-rj      43     38        13        4        21             31   \n",
      "15          Ceará      39     38        10        9        19             36   \n",
      "16       Cruzeiro      36     38         7       15        16             27   \n",
      "17            Csa      32     38         8        8        22             24   \n",
      "18    Chapecoense      32     38         7       11        20             31   \n",
      "19           Avaí      20     38         3       11        24             18   \n",
      "\n",
      "    Gols Sofridos  Saldo de Gols  \n",
      "0              37             49  \n",
      "1              33             27  \n",
      "2              32             29  \n",
      "3              39             25  \n",
      "4              32             19  \n",
      "5              30              9  \n",
      "6              39              5  \n",
      "7              34              8  \n",
      "8              49              1  \n",
      "9              64            -18  \n",
      "10             45             -6  \n",
      "11             43              1  \n",
      "12             49             -4  \n",
      "13             46             -8  \n",
      "14             45            -14  \n",
      "15             41             -5  \n",
      "16             46            -19  \n",
      "17             58            -34  \n",
      "18             52            -21  \n",
      "19             62            -44  \n"
     ]
    }
   ],
   "source": [
    "import pandas as pd\n",
    "df = pd.read_csv ('Tabela.csv')\n",
    "print(df)"
   ]
  },
  {
   "cell_type": "markdown",
   "metadata": {},
   "source": [
    "### Correlação entre Pontos e gols marcados"
   ]
  },
  {
   "cell_type": "code",
   "execution_count": 5,
   "metadata": {},
   "outputs": [
    {
     "data": {
      "text/html": [
       "<div>\n",
       "<style scoped>\n",
       "    .dataframe tbody tr th:only-of-type {\n",
       "        vertical-align: middle;\n",
       "    }\n",
       "\n",
       "    .dataframe tbody tr th {\n",
       "        vertical-align: top;\n",
       "    }\n",
       "\n",
       "    .dataframe thead th {\n",
       "        text-align: right;\n",
       "    }\n",
       "</style>\n",
       "<table border=\"1\" class=\"dataframe\">\n",
       "  <thead>\n",
       "    <tr style=\"text-align: right;\">\n",
       "      <th></th>\n",
       "      <th>Pontos</th>\n",
       "      <th>Gols Marcados</th>\n",
       "    </tr>\n",
       "  </thead>\n",
       "  <tbody>\n",
       "    <tr>\n",
       "      <th>Pontos</th>\n",
       "      <td>1.000000</td>\n",
       "      <td>0.935497</td>\n",
       "    </tr>\n",
       "    <tr>\n",
       "      <th>Gols Marcados</th>\n",
       "      <td>0.935497</td>\n",
       "      <td>1.000000</td>\n",
       "    </tr>\n",
       "  </tbody>\n",
       "</table>\n",
       "</div>"
      ],
      "text/plain": [
       "                 Pontos  Gols Marcados\n",
       "Pontos         1.000000       0.935497\n",
       "Gols Marcados  0.935497       1.000000"
      ]
     },
     "execution_count": 5,
     "metadata": {},
     "output_type": "execute_result"
    }
   ],
   "source": [
    "df[['Pontos','Gols Marcados']].corr()"
   ]
  },
  {
   "cell_type": "markdown",
   "metadata": {},
   "source": [
    "### Correlação entre Pontos e gols sofridos"
   ]
  },
  {
   "cell_type": "code",
   "execution_count": 6,
   "metadata": {},
   "outputs": [
    {
     "data": {
      "text/html": [
       "<div>\n",
       "<style scoped>\n",
       "    .dataframe tbody tr th:only-of-type {\n",
       "        vertical-align: middle;\n",
       "    }\n",
       "\n",
       "    .dataframe tbody tr th {\n",
       "        vertical-align: top;\n",
       "    }\n",
       "\n",
       "    .dataframe thead th {\n",
       "        text-align: right;\n",
       "    }\n",
       "</style>\n",
       "<table border=\"1\" class=\"dataframe\">\n",
       "  <thead>\n",
       "    <tr style=\"text-align: right;\">\n",
       "      <th></th>\n",
       "      <th>Pontos</th>\n",
       "      <th>Gols Sofridos</th>\n",
       "    </tr>\n",
       "  </thead>\n",
       "  <tbody>\n",
       "    <tr>\n",
       "      <th>Pontos</th>\n",
       "      <td>1.000000</td>\n",
       "      <td>-0.716262</td>\n",
       "    </tr>\n",
       "    <tr>\n",
       "      <th>Gols Sofridos</th>\n",
       "      <td>-0.716262</td>\n",
       "      <td>1.000000</td>\n",
       "    </tr>\n",
       "  </tbody>\n",
       "</table>\n",
       "</div>"
      ],
      "text/plain": [
       "                 Pontos  Gols Sofridos\n",
       "Pontos         1.000000      -0.716262\n",
       "Gols Sofridos -0.716262       1.000000"
      ]
     },
     "execution_count": 6,
     "metadata": {},
     "output_type": "execute_result"
    }
   ],
   "source": [
    "df[['Pontos','Gols Sofridos']].corr()"
   ]
  },
  {
   "cell_type": "markdown",
   "metadata": {},
   "source": [
    "### Análise dos Resultados\n",
    "\n",
    "Qual o nível (fraco, moderado, forte) das correlações entre as variáveis analisadas?"
   ]
  },
  {
   "cell_type": "markdown",
   "metadata": {},
   "source": [
    "A correlção entre gols marcados e pontos é forte, já entre gols sofridos e pontos é moderada."
   ]
  },
  {
   "cell_type": "markdown",
   "metadata": {},
   "source": [
    "De acordo com os dados analisados, é melhor um time focar em marcar mais gols ou sofrer menos gols?"
   ]
  },
  {
   "cell_type": "markdown",
   "metadata": {},
   "source": [
    "Já que a correlação entre pontos e gols marcados é maior é melhor para o time focar em marca mais gols."
   ]
  }
 ],
 "metadata": {
  "kernelspec": {
   "display_name": "Python 3",
   "language": "python",
   "name": "python3"
  },
  "language_info": {
   "codemirror_mode": {
    "name": "ipython",
    "version": 3
   },
   "file_extension": ".py",
   "mimetype": "text/x-python",
   "name": "python",
   "nbconvert_exporter": "python",
   "pygments_lexer": "ipython3",
   "version": "3.7.4"
  }
 },
 "nbformat": 4,
 "nbformat_minor": 4
}
